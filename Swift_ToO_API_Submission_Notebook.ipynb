{
 "cells": [
  {
   "cell_type": "markdown",
   "metadata": {},
   "source": [
    "# Swift ToO API Submission"
   ]
  },
  {
   "cell_type": "code",
   "execution_count": null,
   "metadata": {},
   "outputs": [],
   "source": [
    "#Documentation Links\n",
    "#https://docs.google.com/document/d/198HZHG70qLPNYletOZiW9s0wKscQU4wFw8dMynvk0Lc/edit?usp=sharing"
   ]
  },
  {
   "cell_type": "code",
   "execution_count": 5,
   "metadata": {},
   "outputs": [
    {
     "name": "stdout",
     "output_type": "stream",
     "text": [
      "Your information goes here.\n"
     ]
    }
   ],
   "source": [
    "from swifttools.swift_too import Swift_TOO\n",
    "\n",
    "print(\"Your information goes here.\")\n",
    "\n",
    "# Username and secret key\n",
    "username = \"Yours\"\n",
    "shared_secret = \"Yours\"\n"
   ]
  },
  {
   "cell_type": "code",
   "execution_count": 6,
   "metadata": {},
   "outputs": [
    {
     "name": "stdout",
     "output_type": "stream",
     "text": [
      "Information on the target goes here.\n"
     ]
    }
   ],
   "source": [
    "print(\"Information on the target goes here.\")\n",
    "\n",
    "#The information on your target\n",
    "GW_Event = 'GW170817' #Name of the GW event you are observing\n",
    "src_name = \"SSS17a\" #Name of the source you discovered\n",
    "RA = 13.023439 #RA\n",
    "DEC = -72.434508 #DEC\n",
    "Mag = 17 #Discovery magnitude\n",
    "Filter = 'r' #Optical Filter of Discovery\n"
   ]
  },
  {
   "cell_type": "code",
   "execution_count": 7,
   "metadata": {},
   "outputs": [
    {
     "name": "stdout",
     "output_type": "stream",
     "text": [
      "Enabling debug mode, so it will NOT send an actual request. This is a test. Remove this line if you intend to submit.\n"
     ]
    }
   ],
   "source": [
    "# Initiate the Swift_TOO class\n",
    "too = Swift_TOO()\n",
    "\n",
    "#For the list of possible entries see here https://www.swift.psu.edu/too_api/index.php?md=TOO%20parameters.md\n",
    "\n",
    "#This is not an approved GI program. \n",
    "too.proposal = False\n",
    "\n",
    "#Enabling debug mode, so it will NOT send an actual request. This is a test. Remove this line if you intend to submit.\n",
    "too.debug = True\n",
    "print(\"Enabling debug mode, so it will NOT send an actual request. This is a test. Remove this line if you intend to submit.\")\n",
    "\n",
    "# Username and secret key\n",
    "too.username = username\n",
    "too.shared_secret = shared_secret\n",
    "\n",
    "# The relevant details of the object to observe\n",
    "too.source_name = src_name # Typical name of source, if it resolves in Simbad, all the better\n",
    "too.ra = RA         # Right ascension in decimal degrees\n",
    "too.dec = DEC      # Declination in decimal degrees\n",
    "too.source_type = \"EM-GW Counterpart\"  # Short description of source class\n",
    "too.poserr = 0.008 #Source localization error in arcminutes. 0.008 arcmin = 0.5\". A typical optical localization.\n",
    "\n",
    "too.opt_mag = Mag\n",
    "too.opt_filt = Filter\n",
    "\n",
    "# This is saying the primary instrument behind our ToO is UVOT. \n",
    "#If instead you prefer to say XRT is the dominant instrument put \"XRT\"\n",
    "too.instrument = \"UVOT\"\n",
    "\n",
    "#Select the UVOT filter you would like.\n",
    "too.uvot_mode = 0x01AB \n",
    "#0x01AB = uvm2\n",
    "#0x015a = u\n",
    "#see https://www.swift.psu.edu/operations/mode_lookup.php for others.\n",
    "\n",
    "too.uvot_just = (\"We request UV coverage of this kilonova candidate. Swift is the only instrument capable of providing this rapid UV coverage.\")\n",
    "\n",
    "# Estimate of how bright it is\n",
    "too.xrt_countrate = 0.005         # XRT counts/s\n",
    "too.xrt_mode = \"PC\"\n",
    "too.obs_type = too.obs_types[1] # This is \"Light Curve\" - the options are:[\"Spectroscopy\",\"Light Curve\",\"Position\",\"Timing\"]\n",
    "\n",
    "# Immediate Objective of these observations\n",
    "too.immediate_objective = (\"UVOT/XRT coverage of a candidate kilonova discovered through EM tiling observations of a LVK O4 GW event.\")\n",
    "\n",
    "\n",
    "# Science Justification - one to three paragraphs to explain why this TOO request should be accepted\n",
    "too.science_just = (\"In monitoring the GW localization of \"+str(GW_Event)+\" we discovered this rapidly fading optical transient. \"\n",
    "                    \"The source is blue in color, and the rapid decay resembles that of AT2017gfo. \"\n",
    "                    \"No source is known at this location and it is not a minor planet. \"\n",
    "                    \"We request Swift XRT and UVOT coverage of this source to aid in classification. UV coverage is critical to understanding, and later modeling, this source as a kilonova. \")\n",
    "\n",
    "# Exposure description\n",
    "too.exp_time_per_visit = 1000  # Must be in seconds\n",
    "too.monitoring_freq = \"1 days\" #2 * u.day also works # Options for units are seconds, minutes, hours, days, weeks, orbit\n",
    "too.num_of_visits = 3         # So this would monitor the source for 3 days.\n",
    "\n",
    "# Exposure time justification - Explain why 3ks is needed per observation.\n",
    "too.exp_time_just = (\"The requested \"+str(too.exp_time_per_visit)+\" s observation will allow us to achieve our science goals and provide the required UVOT sensitivity. \" \n",
    "                     \"The monitoring of this source every \"+str(too.monitoring_freq)+\" for \"+str(too.num_of_visits)+\" is required to aid in classification \"\n",
    "                     \" and provide pivotol UV coverage not possible rapidly by any other telescopes. \"\n",
    "                    \"Kilonova fade rapidly and the \"+str(too.monitoring_freq)+\" cadence is required.\")\n",
    "\n",
    "# Urgency\n",
    "too.urgency = 2  # Observations needed within 24 hours \n",
    "#Changing this to 1 would request observations within 4 hours. \n",
    "#This is a special case and should be reserved for if spectroscopic is available.\n",
    "\n",
    "#"
   ]
  },
  {
   "cell_type": "code",
   "execution_count": 8,
   "metadata": {
    "scrolled": false
   },
   "outputs": [
    {
     "data": {
      "text/html": [
       "<table><thead><th style='text-align: left;'>Parameter</th><th style='text-align: left;'>Value</th></thead><tr><td style='text-align: left;'>Requester</td><td style='text-align: left;'>oconnorb10</td></tr><tr><td style='text-align: left;'>Object Name</td><td style='text-align: left;'>SSS17a</td></tr><tr><td style='text-align: left;'>Type or Classification</td><td style='text-align: left;'>EM-GW Counterpart</td></tr><tr><td style='text-align: left;'>Right Ascenscion (J2000)</td><td style='text-align: left;'>13.023439</td></tr><tr><td style='text-align: left;'>Declination (J2000)</td><td style='text-align: left;'>-72.434508</td></tr><tr><td style='text-align: left;'>Position Error (90% confidence - arcminutes)</td><td style='text-align: left;'>0.008</td></tr><tr><td style='text-align: left;'>Instrument</td><td style='text-align: left;'>UVOT</td></tr><tr><td style='text-align: left;'>Urgency</td><td style='text-align: left;'>2</td></tr><tr><td style='text-align: left;'>Optical Magnitude</td><td style='text-align: left;'>17</td></tr><tr><td style='text-align: left;'>Optical Filter</td><td style='text-align: left;'>r</td></tr><tr><td style='text-align: left;'>XRT Estimated Rate (c/s)</td><td style='text-align: left;'>0.005</td></tr><tr><td style='text-align: left;'>Immediate Objective</td><td style='text-align: left;'>UVOT/XRT coverage of a candidate kilonova discovered through EM tiling observations of a LVK O4 GW event.</td></tr><tr><td style='text-align: left;'>Science Justification</td><td style='text-align: left;'>In monitoring the GW localization of GW170817 we discovered this rapidly fading optical transient. The source is blue in color, and the rapid decay resembles that of AT2017gfo. No source is known at this location and it is not a minor planet. We request Swift XRT and UVOT coverage of this source to aid in classification. UV coverage is critical to understanding, and later modeling, this source as a kilonova. </td></tr><tr><td style='text-align: left;'>Exposure Time Justification</td><td style='text-align: left;'>The requested 1000 s observation will allow us to achieve our science goals and provide the required UVOT sensitivity. The monitoring of this source every 1 days for 3 is required to aid in classification  and provide pivotol UV coverage not possible rapidly by any other telescopes. Kilonova fade rapidly and the 1 days cadence is required.</td></tr><tr><td style='text-align: left;'>Exposure Time per Visit (seconds)</td><td style='text-align: left;'>1000</td></tr><tr><td style='text-align: left;'>Number of Visits</td><td style='text-align: left;'>3</td></tr><tr><td style='text-align: left;'>Monitoring Cadence</td><td style='text-align: left;'>1 days</td></tr><tr><td style='text-align: left;'>GI Program</td><td style='text-align: left;'>False</td></tr><tr><td style='text-align: left;'>XRT Mode</td><td style='text-align: left;'>PC</td></tr><tr><td style='text-align: left;'>UVOT Mode</td><td style='text-align: left;'>0x01ab</td></tr><tr><td style='text-align: left;'>UVOT Mode Justification</td><td style='text-align: left;'>We request UV coverage of this kilonova candidate. Swift is the only instrument capable of providing this rapid UV coverage.</td></tr><tr><td style='text-align: left;'>Observation Strategy</td><td style='text-align: left;'>multiple</td></tr><tr><td style='text-align: left;'>What is Driving the Exposure Time?</td><td style='text-align: left;'>Light Curve</td></tr><tr><td style='text-align: left;'>Debug mode</td><td style='text-align: left;'>True</td></tr><tr><td style='text-align: left;'>Quiet mode</td><td style='text-align: left;'>False</td></tr></table>"
      ],
      "text/plain": [
       "Swift_TOORequest(username='oconnorb10',source_name='SSS17a',source_type='EM-GW Counterpart',ra='13.023439',dec='-72.434508',poserr='0.008',instrument='UVOT',urgency='2',opt_mag='17',opt_filt='r',xrt_countrate='0.005',immediate_objective='UVOT/XRT coverage of a candidate kilonova discovered through EM tiling observations of a LVK O4 GW event.',science_just='In monitoring the GW localization of GW170817 we discovered this rapidly fading optical transient. The source is blue in color, and the rapid decay resembles that of AT2017gfo. No source is known at this location and it is not a minor planet. We request Swift XRT and UVOT coverage of this source to aid in classification. UV coverage is critical to understanding, and later modeling, this source as a kilonova. ',exp_time_just='The requested 1000 s observation will allow us to achieve our science goals and provide the required UVOT sensitivity. The monitoring of this source every 1 days for 3 is required to aid in classification  and provide pivotol UV coverage not possible rapidly by any other telescopes. Kilonova fade rapidly and the 1 days cadence is required.',exp_time_per_visit='1000',num_of_visits='3',monitoring_freq='1 days',proposal='False',xrt_mode='PC',uvot_mode='0x01ab',uvot_just='We request UV coverage of this kilonova candidate. Swift is the only instrument capable of providing this rapid UV coverage.',obs_n='multiple',obs_type='Light Curve',debug='True',quiet='False')"
      ]
     },
     "execution_count": 8,
     "metadata": {},
     "output_type": "execute_result"
    }
   ],
   "source": [
    "too"
   ]
  },
  {
   "cell_type": "code",
   "execution_count": 9,
   "metadata": {},
   "outputs": [
    {
     "name": "stdout",
     "output_type": "stream",
     "text": [
      "TOO is good to go!\n"
     ]
    }
   ],
   "source": [
    "if too.validate():\n",
    "    print(\"TOO is good to go!\")\n",
    "else:\n",
    "    print(\"Uh-oh!\")"
   ]
  },
  {
   "cell_type": "code",
   "execution_count": 10,
   "metadata": {},
   "outputs": [
    {
     "name": "stdout",
     "output_type": "stream",
     "text": [
      "TOO submitted succesfully\n",
      "Submitted TOO ID = 13876\n"
     ]
    }
   ],
   "source": [
    "if too.submit():\n",
    "    print(\"TOO submitted succesfully\")\n",
    "    print(f\"Submitted TOO ID = {too.status.too_id}\")\n",
    "else:\n",
    "    print(\"Sorry there was a problem with the submission\")"
   ]
  },
  {
   "cell_type": "code",
   "execution_count": 12,
   "metadata": {},
   "outputs": [
    {
     "name": "stdout",
     "output_type": "stream",
     "text": [
      "True\n"
     ]
    }
   ],
   "source": [
    "print(too.complete)"
   ]
  },
  {
   "cell_type": "markdown",
   "metadata": {},
   "source": [
    "# An alternative way to submit the ToO"
   ]
  },
  {
   "cell_type": "code",
   "execution_count": null,
   "metadata": {},
   "outputs": [],
   "source": [
    "#Documentation Links\n",
    "#https://docs.google.com/document/d/198HZHG70qLPNYletOZiW9s0wKscQU4wFw8dMynvk0Lc/edit?usp=sharing"
   ]
  },
  {
   "cell_type": "code",
   "execution_count": 13,
   "metadata": {},
   "outputs": [
    {
     "name": "stdout",
     "output_type": "stream",
     "text": [
      "\n",
      "Current setting is debug mode, which means that no actual ToO will be submitted. Change debug = False in order to submit a real ToO.\n",
      "\n",
      "\n",
      "Enabling debug mode, so it will NOT send an actual request. This is a test. Remove this line if you intend to submit.\n",
      "+----------------------------------------------+-----------------------------------------------------------------------------------------------------------------------------------------------------------------------------------------------------------------------------------------------------------------------------------------------------------------------------------------------------------------------------------------------------------------------------+\n",
      "|                                    Parameter |                                                                                                                                                                                                                                                                                                                                                                                                                       Value |\n",
      "+----------------------------------------------+-----------------------------------------------------------------------------------------------------------------------------------------------------------------------------------------------------------------------------------------------------------------------------------------------------------------------------------------------------------------------------------------------------------------------------+\n",
      "|                                    Requester |                                                                                                                                                                                                                                                                                                                                                                                                                  oconnorb10 |\n",
      "|                                  Object Name |                                                                                                                                                                                                                                                                                                                                                                                                                      SSS17a |\n",
      "|                       Type or Classification |                                                                                                                                                                                                                                                                                                                                                                                                           EM-GW Counterpart |\n",
      "|                     Right Ascenscion (J2000) |                                                                                                                                                                                                                                                                                                                                                                                                                   13.023439 |\n",
      "|                          Declination (J2000) |                                                                                                                                                                                                                                                                                                                                                                                                                  -72.434508 |\n",
      "| Position Error (90% confidence - arcminutes) |                                                                                                                                                                                                                                                                                                                                                                                                                       0.008 |\n",
      "|                                   Instrument |                                                                                                                                                                                                                                                                                                                                                                                                                        UVOT |\n",
      "|                                      Urgency |                                                                                                                                                                                                                                                                                                                                                                                                                           2 |\n",
      "|                            Optical Magnitude |                                                                                                                                                                                                                                                                                                                                                                                                                          17 |\n",
      "|                               Optical Filter |                                                                                                                                                                                                                                                                                                                                                                                                                           r |\n",
      "|                     XRT Estimated Rate (c/s) |                                                                                                                                                                                                                                                                                                                                                                                                                       0.005 |\n",
      "|                          Immediate Objective |                                                                                                                                                                                                                                                                                                                   UVOT/XRT coverage of a candidate kilonova discovered through EM tiling observations of a LVK O4 GW event. |\n",
      "|                        Science Justification | In monitoring the GW localization of GW170817 we discovered this rapidly fading optical transient. The source is blue in color, and the rapid decay resembles that of AT2017gfo. No source is known at this location and it is not a minor planet. We request Swift XRT and UVOT coverage of this source to aid in classification. UV coverage is critical to understanding, and later modeling, this source as a kilonova. |\n",
      "|                  Exposure Time Justification |                                                                         The requested 1000 s observation will allow us to achieve our science goals and provide the required UVOT sensitivity. The monitoring of this source every 1.0 d for 3 is required to aid in classification  and provide pivotol UV coverage not possible rapidly by any other telescopes. Kilonova fade rapidly and the 1.0 d cadence is required. |\n",
      "|            Exposure Time per Visit (seconds) |                                                                                                                                                                                                                                                                                                                                                                                                                        1000 |\n",
      "|                             Number of Visits |                                                                                                                                                                                                                                                                                                                                                                                                                           3 |\n",
      "|                           Monitoring Cadence |                                                                                                                                                                                                                                                                                                                                                                                                                       1.0 d |\n",
      "|                                   GI Program |                                                                                                                                                                                                                                                                                                                                                                                                                       False |\n",
      "|                                     XRT Mode |                                                                                                                                                                                                                                                                                                                                                                                                                          PC |\n",
      "|                                    UVOT Mode |                                                                                                                                                                                                                                                                                                                                                                                                                      0x01ab |\n",
      "|                      UVOT Mode Justification |                                                                                                                                                                                                                                                                                                We request UV coverage of this kilonova candidate. Swift is the only instrument capable of providing this rapid UV coverage. |\n",
      "|                         Observation Strategy |                                                                                                                                                                                                                                                                                                                                                                                                                    multiple |\n",
      "|           What is Driving the Exposure Time? |                                                                                                                                                                                                                                                                                                                                                                                                                 Light Curve |\n",
      "|                                   Debug mode |                                                                                                                                                                                                                                                                                                                                                                                                                        True |\n",
      "|                                   Quiet mode |                                                                                                                                                                                                                                                                                                                                                                                                                       False |\n",
      "+----------------------------------------------+-----------------------------------------------------------------------------------------------------------------------------------------------------------------------------------------------------------------------------------------------------------------------------------------------------------------------------------------------------------------------------------------------------------------------------+\n",
      "TOO is good to go!\n"
     ]
    },
    {
     "name": "stdout",
     "output_type": "stream",
     "text": [
      "TOO submitted succesfully\n",
      "Submitted TOO ID = 13875\n",
      "True\n",
      "\n",
      "\n",
      "All ToOs Submitted.\n",
      "\n",
      "\n"
     ]
    }
   ],
   "source": [
    "from swifttools.swift_too import Swift_TOO\n",
    "import astropy.units as u\n",
    "from astropy.table import Table\n",
    "\n",
    "def submit_swift_too(username, shared_secret, GW_event, exp_time, visitfreq, visitnumber, urgency, uvot_filter, src_name, ra, dec, mag, Filter, debug):\n",
    "\n",
    "\n",
    "\t# Initiate the Swift_TOO class\n",
    "\ttoo = Swift_TOO()\n",
    "\n",
    "\t#For the list of possible entries see here https://www.swift.psu.edu/too_api/index.php?md=TOO%20parameters.md\n",
    "\n",
    "\t#This is not an approved GI program. \n",
    "\ttoo.proposal = False\n",
    "\n",
    "\tif debug == True:\n",
    "\t\t#Enabling debug mode, so it will NOT send an actual request. This is a test. Remove this line if you intend to submit.\n",
    "\t\ttoo.debug = True\n",
    "\t\tprint(\"Enabling debug mode, so it will NOT send an actual request. This is a test. Remove this line if you intend to submit.\")\n",
    "\n",
    "\t# Username and secret key\n",
    "\ttoo.username = username\n",
    "\ttoo.shared_secret = shared_secret\n",
    "\n",
    "\t# The relevant details of the object to observe\n",
    "\ttoo.source_name = src_name # Typical name of source, if it resolves in Simbad, all the better\n",
    "\ttoo.ra = ra         # Right ascension in decimal degrees\n",
    "\ttoo.dec = dec     # Declination in decimal degrees\n",
    "\ttoo.source_type = \"EM-GW Counterpart\"  # Short description of source class\n",
    "\ttoo.poserr = 0.008 #Source localization error in arcminutes. 0.008 arcmin = 0.5\". A typical optical localization.\n",
    "\n",
    "\ttoo.opt_mag = mag\n",
    "\ttoo.opt_filt = Filter\n",
    "\n",
    "\t# This is saying the primary instrument behind our ToO is UVOT. \n",
    "\t#If instead you prefer to say XRT is the dominant instrument put \"XRT\"\n",
    "\ttoo.instrument = \"UVOT\"\n",
    "\n",
    "\t#Select the UVOT filter you would like.\n",
    "\ttoo.uvot_mode = 0x01AB \n",
    "\t#0x01AB = uvm2\n",
    "\t#0x015a = u\n",
    "\t#see https://www.swift.psu.edu/operations/mode_lookup.php for others.\n",
    "\n",
    "\ttoo.uvot_just = (\"We request UV coverage of this kilonova candidate. Swift is the only instrument capable of providing this rapid UV coverage.\")\n",
    "\n",
    "\t# Estimate of how bright it is\n",
    "\ttoo.xrt_countrate = 0.005         # XRT counts/s\n",
    "\ttoo.xrt_mode = \"PC\"\n",
    "\ttoo.obs_type = too.obs_types[1] # This is \"Light Curve\" - the options are:[\"Spectroscopy\",\"Light Curve\",\"Position\",\"Timing\"]\n",
    "\n",
    "\t# Immediate Objective of these observations\n",
    "\ttoo.immediate_objective = (\"UVOT/XRT coverage of a candidate kilonova discovered through EM tiling observations of a LVK O4 GW event.\")\n",
    "\n",
    "\n",
    "\t# Science Justification - one to three paragraphs to explain why this TOO request should be accepted\n",
    "\ttoo.science_just = (\"In monitoring the GW localization of \"+str(GW_event)+\" we discovered this rapidly fading optical transient. \"\n",
    "                    \"The source is blue in color, and the rapid decay resembles that of AT2017gfo. \"\n",
    "                    \"No source is known at this location and it is not a minor planet. \"\n",
    "                    \"We request Swift XRT and UVOT coverage of this source to aid in classification. UV coverage is critical to understanding, and later modeling, this source as a kilonova. \")\n",
    "\n",
    "\t# Exposure description\n",
    "\ttoo.exp_time_per_visit = exp_time  # Must be in seconds\n",
    "\ttoo.monitoring_freq =  visitfreq * u.day # visitfreq = 1 would be one visit every day\n",
    "\ttoo.num_of_visits = visitnumber         # visitnumber = would monitor the source for 3 days.\n",
    "\n",
    "\t# Exposure time justification - Explain why 3ks is needed per observation.\n",
    "\ttoo.exp_time_just = (\"The requested \"+str(too.exp_time_per_visit)+\" s observation will allow us to achieve our science goals and provide the required UVOT sensitivity. \" \n",
    "                     \"The monitoring of this source every \"+str(too.monitoring_freq)+\" for \"+str(too.num_of_visits)+\" is required to aid in classification \"\n",
    "                     \" and provide pivotol UV coverage not possible rapidly by any other telescopes. \"\n",
    "                    \"Kilonova fade rapidly and the \"+str(too.monitoring_freq)+\" cadence is required.\")\n",
    "\n",
    "\t# Urgency\n",
    "\ttoo.urgency = urgency  # urgency = 2; Observations needed within 24 hours \n",
    "\t#Changing this to 1 would request observations within 4 hours. \n",
    "\t#This is a special case and should be reserved for if spectroscopic confirmation is already available. I would think...\n",
    "\n",
    "\tprint(too)\n",
    "    \n",
    "\tif too.validate():\n",
    "    \t\tprint(\"TOO is good to go!\")\n",
    "\telse:\n",
    "    \t\tprint(\"Uh-oh!\")\n",
    "\n",
    "\tif too.submit():\n",
    "   \t\t\tprint(\"TOO submitted succesfully\")\n",
    "   \t\t\tprint(f\"Submitted TOO ID = {too.status.too_id}\")\n",
    "\telse:\n",
    "    \t\tprint(\"Sorry there was a problem with the submission\")\n",
    "\n",
    "\tprint(too.complete)\n",
    "\n",
    "\t#\n",
    "\n",
    "\n",
    "#######################################################\n",
    "\n",
    "\t#The information on your target\n",
    "GW_event = 'GW170817' #Name of the GW event you are observing\n",
    "src_name = \"SSS17a\" #Name of the source you discovered\n",
    "RA = 13.023439 #RA\n",
    "DEC = -72.434508 #DEC\n",
    "Mag = 17 #Discovery magnitude\n",
    "Filter = 'r' #Optical Filter of Discovery\n",
    "\n",
    "print(\"\\nCurrent setting is debug mode, which means that no actual ToO will be submitted. Change debug = False in order to submit a real ToO.\\n\\n\")\n",
    "debug = True\n",
    "\n",
    "#for i in range(len(ralist)):\n",
    "#print(\"ToO #\"+str(i)+\": \"+str(srcnamelist[i]))\n",
    "##submit_swift_too(username, shared_secret, GW_event, exp_time, visitfreq, visitnumber, urgency, uvot_filter, src_name, ra, dec, mag, Filter, debug)\t\n",
    "submit_swift_too(username, shared_secret, GW_event, 1000, 1, 3, 2, 0x30d5, src_name, RA, DEC, Mag, Filter, debug)\n",
    "\n",
    "print(\"\\n\\nAll ToOs Submitted.\\n\\n\")"
   ]
  },
  {
   "cell_type": "code",
   "execution_count": null,
   "metadata": {},
   "outputs": [],
   "source": []
  },
  {
   "cell_type": "code",
   "execution_count": null,
   "metadata": {},
   "outputs": [],
   "source": []
  }
 ],
 "metadata": {
  "kernelspec": {
   "display_name": "Python 3 (ipykernel)",
   "language": "python",
   "name": "python3"
  },
  "language_info": {
   "codemirror_mode": {
    "name": "ipython",
    "version": 3
   },
   "file_extension": ".py",
   "mimetype": "text/x-python",
   "name": "python",
   "nbconvert_exporter": "python",
   "pygments_lexer": "ipython3",
   "version": "3.6.9"
  }
 },
 "nbformat": 4,
 "nbformat_minor": 2
}
